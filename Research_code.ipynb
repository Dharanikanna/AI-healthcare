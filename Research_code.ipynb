{
 "cells": [
  {
   "cell_type": "code",
   "execution_count": 6,
   "id": "1a5b3b12-6ace-4576-b791-a95cf0e9e9c2",
   "metadata": {},
   "outputs": [
    {
     "name": "stdout",
     "output_type": "stream",
     "text": [
      "temp: <tempfile._TemporaryFileWrapper object at 0x000001DDBFD7A790>\n",
      "temp.name: C:\\Users\\DHARAN~1\\AppData\\Local\\Temp\\tmphrwc3ope\n"
     ]
    }
   ],
   "source": [
    "import tempfile\n",
    "  \n",
    "temp = tempfile.TemporaryFile()\n",
    "print('temp:',temp)\n",
    "print('temp.name:', temp.name)\n",
    "temp.close()"
   ]
  },
  {
   "cell_type": "code",
   "execution_count": 8,
   "id": "3d023d73-e9fe-4ddb-948a-473de434627b",
   "metadata": {},
   "outputs": [
    {
     "name": "stderr",
     "output_type": "stream",
     "text": [
      "WARNING:root:This is a warning message\n",
      "ERROR:root:This is an error message\n",
      "CRITICAL:root:This is a critical message\n"
     ]
    }
   ],
   "source": [
    "import logging\n",
    "\n",
    "logging.debug('This is a debug message')\n",
    "logging.info('This is an info message')\n",
    "logging.warning('This is a warning message')\n",
    "logging.error('This is an error message')\n",
    "logging.critical('This is a critical message')"
   ]
  },
  {
   "cell_type": "code",
   "execution_count": 13,
   "id": "8ed066a7-b6e6-4059-9d6c-79df90f2b77e",
   "metadata": {},
   "outputs": [
    {
     "name": "stderr",
     "output_type": "stream",
     "text": [
      "ERROR:root:John raised an error\n"
     ]
    }
   ],
   "source": [
    "import logging\n",
    "\n",
    "name = 'John'\n",
    "\n",
    "logging.error(f'{name} raised an error')"
   ]
  },
  {
   "cell_type": "code",
   "execution_count": 14,
   "id": "934971f9-b3a1-4f6a-82ce-95ab831ef1e3",
   "metadata": {},
   "outputs": [
    {
     "name": "stderr",
     "output_type": "stream",
     "text": [
      "ERROR:root:Exception occurred\n",
      "Traceback (most recent call last):\n",
      "  File \"C:\\Users\\DHARAN~1\\AppData\\Local\\Temp/ipykernel_27208/1673112338.py\", line 7, in <module>\n",
      "    c = a / b\n",
      "ZeroDivisionError: division by zero\n"
     ]
    }
   ],
   "source": [
    "import logging\n",
    "\n",
    "a = 5\n",
    "b = 0\n",
    "\n",
    "try:\n",
    "  c = a / b\n",
    "except Exception as e:\n",
    "  logging.error(\"Exception occurred\", exc_info=True)"
   ]
  },
  {
   "cell_type": "code",
   "execution_count": 17,
   "id": "3228275d-b7c1-4267-97c0-05f9d02acd43",
   "metadata": {},
   "outputs": [],
   "source": [
    "import logging\n",
    "\n",
    "logging.basicConfig(level=logging.DEBUG)\n",
    "logging.debug('This will get logged')"
   ]
  },
  {
   "cell_type": "code",
   "execution_count": null,
   "id": "0b0573ba-ae7d-49e4-a626-992267a0167f",
   "metadata": {},
   "outputs": [],
   "source": []
  }
 ],
 "metadata": {
  "kernelspec": {
   "display_name": "Python 3 (ipykernel)",
   "language": "python",
   "name": "python3"
  },
  "language_info": {
   "codemirror_mode": {
    "name": "ipython",
    "version": 3
   },
   "file_extension": ".py",
   "mimetype": "text/x-python",
   "name": "python",
   "nbconvert_exporter": "python",
   "pygments_lexer": "ipython3",
   "version": "3.9.0"
  }
 },
 "nbformat": 4,
 "nbformat_minor": 5
}
