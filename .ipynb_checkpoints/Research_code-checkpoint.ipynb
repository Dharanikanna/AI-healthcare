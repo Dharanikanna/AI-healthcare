{
 "cells": [
  {
   "cell_type": "code",
   "execution_count": null,
   "id": "1a5b3b12-6ace-4576-b791-a95cf0e9e9c2",
   "metadata": {},
   "outputs": [],
   "source": [
    "import tempfile\n",
    "  \n",
    "temp = tempfile.TemporaryFile()\n",
    "print('temp:',temp)\n",
    "print('temp.name:', temp.name)\n",
    "temp.close()"
   ]
  },
  {
   "cell_type": "code",
   "execution_count": null,
   "id": "3d023d73-e9fe-4ddb-948a-473de434627b",
   "metadata": {},
   "outputs": [],
   "source": []
  }
 ],
 "metadata": {
  "kernelspec": {
   "display_name": "Python 3 (ipykernel)",
   "language": "python",
   "name": "python3"
  },
  "language_info": {
   "codemirror_mode": {
    "name": "ipython",
    "version": 3
   },
   "file_extension": ".py",
   "mimetype": "text/x-python",
   "name": "python",
   "nbconvert_exporter": "python",
   "pygments_lexer": "ipython3",
   "version": "3.9.0"
  }
 },
 "nbformat": 4,
 "nbformat_minor": 5
}
